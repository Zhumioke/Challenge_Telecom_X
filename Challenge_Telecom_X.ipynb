{
  "nbformat": 4,
  "nbformat_minor": 0,
  "metadata": {
    "colab": {
      "provenance": []
    },
    "kernelspec": {
      "name": "python3",
      "display_name": "Python 3"
    },
    "language_info": {
      "name": "python"
    }
  },
  "cells": [
    {
      "cell_type": "markdown",
      "source": [
        "**Challenge Telecom X: análisis de evasión de clientes**"
      ],
      "metadata": {
        "id": "5M2JjfvLttnQ"
      }
    },
    {
      "cell_type": "markdown",
      "source": [
        "#**Descripción**\n",
        "  Telecom X - Análisis de Evasión de Clientes\n",
        "\n",
        "  Has sido contratado como asistente de análisis de datos en Telecom X y formarás parte del proyecto \"Churn de Clientes\". La empresa enfrenta una alta tasa de cancelaciones y necesita comprender los factores que llevan a la pérdida de clientes.\n",
        "\n",
        "  Tu desafío será recopilar, procesar y analizar los datos, utilizando Python y sus principales bibliotecas para extraer información valiosa. A partir de tu análisis, el equipo de Data Science podrá avanzar en modelos predictivos y desarrollar estrategias para reducir la evasión.**\n",
        "\n",
        "\n",
        "\n",
        "\n",
        "\n",
        "\n",
        "\n"
      ],
      "metadata": {
        "id": "0MeZNDh7t5a1"
      }
    },
    {
      "cell_type": "markdown",
      "source": [
        "**Crear el repositorio de tu proyecto en GitHub**\n"
      ],
      "metadata": {
        "id": "war_4__Cv4oE"
      }
    },
    {
      "cell_type": "markdown",
      "source": [
        "##**✅ Importar y manipular datos desde una API de manera eficiente.**"
      ],
      "metadata": {
        "id": "e6H79obsvK6g"
      }
    },
    {
      "cell_type": "markdown",
      "source": [
        "##**✅ Aplicar los conceptos de ETL (Extracción, Transformación y Carga) en la preparación de los datos.**"
      ],
      "metadata": {
        "id": "HKRpEkLkvO7x"
      }
    },
    {
      "cell_type": "markdown",
      "source": [
        "##**✅ Crear visualizaciones estratégicas para identificar patrones y tendencias.**"
      ],
      "metadata": {
        "id": "gitMU8fgvYCT"
      }
    },
    {
      "cell_type": "markdown",
      "source": [
        "##**✅ Realizar un Análisis Exploratorio de Datos (EDA) y generar un informe con insights relevantes.**"
      ],
      "metadata": {
        "id": "1P7-z5LRvt9g"
      }
    }
  ]
}